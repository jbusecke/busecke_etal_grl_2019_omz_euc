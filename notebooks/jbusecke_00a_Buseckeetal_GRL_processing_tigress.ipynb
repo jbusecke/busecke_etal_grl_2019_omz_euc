{
 "cells": [
  {
   "cell_type": "markdown",
   "metadata": {},
   "source": [
    "# Tigress data exclusive processing\n",
    "This is only necessary for the CMIP data, which resides on the princeton machine"
   ]
  },
  {
   "cell_type": "code",
   "execution_count": 1,
   "metadata": {},
   "outputs": [],
   "source": [
    "import numpy as np\n",
    "import xarray as xr\n",
    "import xesmf as xe\n",
    "from glob import glob\n",
    "from xarrayutils import concat_dim_da\n",
    "%matplotlib inline"
   ]
  },
  {
   "cell_type": "code",
   "execution_count": 2,
   "metadata": {},
   "outputs": [],
   "source": [
    "def fetch_equator_full(ds, field='o2'):\n",
    "    ds_target = xr.Dataset({'lat': (['lat'], np.arange(-5, 5, 0.5)),\n",
    "                     'lon': (['lon'], np.arange(-270, -60, 1)),\n",
    "                    }\n",
    "                   )\n",
    "    ds = ds.copy()\n",
    "    print(ds.attrs['model_id'])\n",
    "    if len(ds.lon.shape) == 1:\n",
    "        lon, lat = np.meshgrid(ds.lon, ds.lat)\n",
    "        ds = ds.rename({'lon':'rlon', 'lat':'rlat'})\n",
    "        \n",
    "        llon = xr.DataArray(lon, dims=['rlat', 'rlon'])\n",
    "        llat = xr.DataArray(lat, dims=['rlat', 'rlon'])\n",
    "        ds.coords['lon'] = llon\n",
    "        ds.coords['lat'] = llat\n",
    "\n",
    "    regridder = xe.Regridder(ds, ds_target, 'bilinear')\n",
    "    out = regridder(ds[field])\n",
    "    regridder.clean_weight_file()\n",
    "    return out\n",
    "# So this is not ideal..I need to rename the coords to dimensions and then average over 1S-1N\n",
    "\n",
    "# Check if all files are there\n",
    "def filecheck(path):\n",
    "    li = glob(path)\n",
    "    if len(li) == 1:\n",
    "        return li[0]\n",
    "    elif len(li) == 0:\n",
    "        raise RuntimeError('No files found for %s' %(path))\n",
    "    else:\n",
    "        raise RuntimeError('Multiple files found: %s' %li)\n",
    "        \n",
    "\n",
    "def replace_time(ds, reftime):\n",
    "    ds = ds.copy()\n",
    "\n",
    "#     if len(ds.time)>=len(reftime):\n",
    "#         ds['time'].data = reftime[0:len(reftime)]\n",
    "#     else:\n",
    "    ds['time'].data = reftime[0:len(ds.time)]\n",
    "#     print(ds.time[0])\n",
    "    return ds"
   ]
  },
  {
   "cell_type": "code",
   "execution_count": 33,
   "metadata": {},
   "outputs": [
    {
     "name": "stdout",
     "output_type": "stream",
     "text": [
      "SCENARIO:piControl\n"
     ]
    },
    {
     "name": "stderr",
     "output_type": "stream",
     "text": [
      "/tiger/scratch/gpfs/jbusecke/projects/global_oxygen/src/xarray/xarray/coding/times.py:419: SerializationWarning: Unable to decode time axis into full numpy.datetime64 objects, continuing using cftime.datetime objects instead, reason: dates out of range\n",
      "  self.use_cftime)\n",
      "/tiger/scratch/gpfs/jbusecke/projects/global_oxygen/src/xarray/xarray/coding/times.py:419: SerializationWarning: Unable to decode time axis into full numpy.datetime64 objects, continuing using cftime.datetime objects instead, reason: dates out of range\n",
      "  self.use_cftime)\n",
      "/home/jbusecke/code/miniconda/envs/global_oxygen/lib/python3.6/site-packages/numpy/core/numeric.py:501: SerializationWarning: Unable to decode time axis into full numpy.datetime64 objects, continuing using cftime.datetime objects instead, reason: dates out of range\n",
      "  return array(a, dtype, copy=False, order=order)\n",
      "/tiger/scratch/gpfs/jbusecke/projects/global_oxygen/src/xarray/xarray/coding/times.py:419: SerializationWarning: Unable to decode time axis into full numpy.datetime64 objects, continuing using cftime.datetime objects instead, reason: dates out of range\n",
      "  self.use_cftime)\n",
      "/tiger/scratch/gpfs/jbusecke/projects/global_oxygen/src/xarray/xarray/coding/times.py:419: SerializationWarning: Unable to decode time axis into full numpy.datetime64 objects, continuing using cftime.datetime objects instead, reason: dates out of range\n",
      "  self.use_cftime)\n",
      "/home/jbusecke/code/miniconda/envs/global_oxygen/lib/python3.6/site-packages/numpy/core/numeric.py:501: SerializationWarning: Unable to decode time axis into full numpy.datetime64 objects, continuing using cftime.datetime objects instead, reason: dates out of range\n",
      "  return array(a, dtype, copy=False, order=order)\n",
      "/tiger/scratch/gpfs/jbusecke/projects/global_oxygen/src/xarray/xarray/coding/times.py:419: SerializationWarning: Unable to decode time axis into full numpy.datetime64 objects, continuing using cftime.datetime objects instead, reason: dates out of range\n",
      "  self.use_cftime)\n",
      "/tiger/scratch/gpfs/jbusecke/projects/global_oxygen/src/xarray/xarray/coding/times.py:419: SerializationWarning: Unable to decode time axis into full numpy.datetime64 objects, continuing using cftime.datetime objects instead, reason: dates out of range\n",
      "  self.use_cftime)\n",
      "/home/jbusecke/code/miniconda/envs/global_oxygen/lib/python3.6/site-packages/numpy/core/numeric.py:501: SerializationWarning: Unable to decode time axis into full numpy.datetime64 objects, continuing using cftime.datetime objects instead, reason: dates out of range\n",
      "  return array(a, dtype, copy=False, order=order)\n",
      "/tiger/scratch/gpfs/jbusecke/projects/global_oxygen/src/xarray/xarray/coding/times.py:419: SerializationWarning: Unable to decode time axis into full numpy.datetime64 objects, continuing using cftime.datetime objects instead, reason: dates out of range\n",
      "  self.use_cftime)\n",
      "/tiger/scratch/gpfs/jbusecke/projects/global_oxygen/src/xarray/xarray/coding/times.py:419: SerializationWarning: Unable to decode time axis into full numpy.datetime64 objects, continuing using cftime.datetime objects instead, reason: dates out of range\n",
      "  self.use_cftime)\n",
      "/home/jbusecke/code/miniconda/envs/global_oxygen/lib/python3.6/site-packages/numpy/core/numeric.py:501: SerializationWarning: Unable to decode time axis into full numpy.datetime64 objects, continuing using cftime.datetime objects instead, reason: dates out of range\n",
      "  return array(a, dtype, copy=False, order=order)\n"
     ]
    },
    {
     "name": "stdout",
     "output_type": "stream",
     "text": [
      "NorESM1-ME\n",
      "Create weight file: bilinear_384x320_20x210.nc\n"
     ]
    },
    {
     "name": "stderr",
     "output_type": "stream",
     "text": [
      "/home/jbusecke/code/miniconda/envs/global_oxygen/lib/python3.6/site-packages/xesmf/smm.py:73: UserWarning: Input array is not C_CONTIGUOUS. Will affect performance.\n",
      "  warnings.warn(\"Input array is not C_CONTIGUOUS. \"\n"
     ]
    },
    {
     "name": "stdout",
     "output_type": "stream",
     "text": [
      "Remove file bilinear_384x320_20x210.nc\n",
      "CESM1-BGC\n",
      "Create weight file: bilinear_384x320_20x210.nc\n"
     ]
    },
    {
     "name": "stderr",
     "output_type": "stream",
     "text": [
      "/home/jbusecke/code/miniconda/envs/global_oxygen/lib/python3.6/site-packages/xesmf/smm.py:73: UserWarning: Input array is not C_CONTIGUOUS. Will affect performance.\n",
      "  warnings.warn(\"Input array is not C_CONTIGUOUS. \"\n"
     ]
    },
    {
     "name": "stdout",
     "output_type": "stream",
     "text": [
      "Remove file bilinear_384x320_20x210.nc\n"
     ]
    },
    {
     "name": "stderr",
     "output_type": "stream",
     "text": [
      "/home/jbusecke/code/miniconda/envs/global_oxygen/lib/python3.6/site-packages/numpy/core/numeric.py:501: SerializationWarning: Unable to decode time axis into full numpy.datetime64 objects, continuing using cftime.datetime objects instead, reason: dates out of range\n",
      "  return array(a, dtype, copy=False, order=order)\n"
     ]
    },
    {
     "name": "stdout",
     "output_type": "stream",
     "text": [
      "MPI-ESM-LR\n",
      "Create weight file: bilinear_220x256_20x210.nc\n"
     ]
    },
    {
     "name": "stderr",
     "output_type": "stream",
     "text": [
      "/home/jbusecke/code/miniconda/envs/global_oxygen/lib/python3.6/site-packages/xesmf/smm.py:73: UserWarning: Input array is not C_CONTIGUOUS. Will affect performance.\n",
      "  warnings.warn(\"Input array is not C_CONTIGUOUS. \"\n"
     ]
    },
    {
     "name": "stdout",
     "output_type": "stream",
     "text": [
      "Remove file bilinear_220x256_20x210.nc\n",
      "GFDL-ESM2M\n",
      "Create weight file: bilinear_200x360_20x210.nc\n"
     ]
    },
    {
     "name": "stderr",
     "output_type": "stream",
     "text": [
      "/home/jbusecke/code/miniconda/envs/global_oxygen/lib/python3.6/site-packages/xesmf/smm.py:73: UserWarning: Input array is not C_CONTIGUOUS. Will affect performance.\n",
      "  warnings.warn(\"Input array is not C_CONTIGUOUS. \"\n"
     ]
    },
    {
     "name": "stdout",
     "output_type": "stream",
     "text": [
      "Remove file bilinear_200x360_20x210.nc\n",
      "IPSL-CM5A-LR\n",
      "Create weight file: bilinear_85x182_20x210.nc\n"
     ]
    },
    {
     "name": "stderr",
     "output_type": "stream",
     "text": [
      "/home/jbusecke/code/miniconda/envs/global_oxygen/lib/python3.6/site-packages/xesmf/smm.py:73: UserWarning: Input array is not C_CONTIGUOUS. Will affect performance.\n",
      "  warnings.warn(\"Input array is not C_CONTIGUOUS. \"\n"
     ]
    },
    {
     "name": "stdout",
     "output_type": "stream",
     "text": [
      "Remove file bilinear_85x182_20x210.nc\n",
      "GFDL-ESM2G\n",
      "Create weight file: bilinear_210x360_20x210.nc\n"
     ]
    },
    {
     "name": "stderr",
     "output_type": "stream",
     "text": [
      "/home/jbusecke/code/miniconda/envs/global_oxygen/lib/python3.6/site-packages/xesmf/smm.py:73: UserWarning: Input array is not C_CONTIGUOUS. Will affect performance.\n",
      "  warnings.warn(\"Input array is not C_CONTIGUOUS. \"\n"
     ]
    },
    {
     "name": "stdout",
     "output_type": "stream",
     "text": [
      "Remove file bilinear_210x360_20x210.nc\n"
     ]
    },
    {
     "name": "stderr",
     "output_type": "stream",
     "text": [
      "/home/jbusecke/code/miniconda/envs/global_oxygen/lib/python3.6/site-packages/numpy/core/numeric.py:501: SerializationWarning: Unable to decode time axis into full numpy.datetime64 objects, continuing using cftime.datetime objects instead, reason: dates out of range\n",
      "  return array(a, dtype, copy=False, order=order)\n"
     ]
    },
    {
     "name": "stdout",
     "output_type": "stream",
     "text": [
      "MPI-ESM-MR\n",
      "Create weight file: bilinear_404x802_20x210.nc\n"
     ]
    },
    {
     "name": "stderr",
     "output_type": "stream",
     "text": [
      "/home/jbusecke/code/miniconda/envs/global_oxygen/lib/python3.6/site-packages/xesmf/smm.py:73: UserWarning: Input array is not C_CONTIGUOUS. Will affect performance.\n",
      "  warnings.warn(\"Input array is not C_CONTIGUOUS. \"\n"
     ]
    },
    {
     "name": "stdout",
     "output_type": "stream",
     "text": [
      "Remove file bilinear_404x802_20x210.nc\n",
      "NorESM1-ME\n",
      "Create weight file: bilinear_384x320_20x210.nc\n"
     ]
    },
    {
     "name": "stderr",
     "output_type": "stream",
     "text": [
      "/home/jbusecke/code/miniconda/envs/global_oxygen/lib/python3.6/site-packages/xesmf/smm.py:73: UserWarning: Input array is not C_CONTIGUOUS. Will affect performance.\n",
      "  warnings.warn(\"Input array is not C_CONTIGUOUS. \"\n"
     ]
    },
    {
     "name": "stdout",
     "output_type": "stream",
     "text": [
      "Remove file bilinear_384x320_20x210.nc\n",
      "CESM1-BGC\n",
      "Create weight file: bilinear_384x320_20x210.nc\n"
     ]
    },
    {
     "name": "stderr",
     "output_type": "stream",
     "text": [
      "/home/jbusecke/code/miniconda/envs/global_oxygen/lib/python3.6/site-packages/xesmf/smm.py:73: UserWarning: Input array is not C_CONTIGUOUS. Will affect performance.\n",
      "  warnings.warn(\"Input array is not C_CONTIGUOUS. \"\n"
     ]
    },
    {
     "name": "stdout",
     "output_type": "stream",
     "text": [
      "Remove file bilinear_384x320_20x210.nc\n"
     ]
    },
    {
     "name": "stderr",
     "output_type": "stream",
     "text": [
      "/home/jbusecke/code/miniconda/envs/global_oxygen/lib/python3.6/site-packages/numpy/core/numeric.py:501: SerializationWarning: Unable to decode time axis into full numpy.datetime64 objects, continuing using cftime.datetime objects instead, reason: dates out of range\n",
      "  return array(a, dtype, copy=False, order=order)\n"
     ]
    },
    {
     "name": "stdout",
     "output_type": "stream",
     "text": [
      "MPI-ESM-LR\n",
      "Create weight file: bilinear_220x256_20x210.nc\n"
     ]
    },
    {
     "name": "stderr",
     "output_type": "stream",
     "text": [
      "/home/jbusecke/code/miniconda/envs/global_oxygen/lib/python3.6/site-packages/xesmf/smm.py:73: UserWarning: Input array is not C_CONTIGUOUS. Will affect performance.\n",
      "  warnings.warn(\"Input array is not C_CONTIGUOUS. \"\n"
     ]
    },
    {
     "name": "stdout",
     "output_type": "stream",
     "text": [
      "Remove file bilinear_220x256_20x210.nc\n",
      "GFDL-ESM2M\n",
      "Create weight file: bilinear_200x360_20x210.nc\n"
     ]
    },
    {
     "name": "stderr",
     "output_type": "stream",
     "text": [
      "/home/jbusecke/code/miniconda/envs/global_oxygen/lib/python3.6/site-packages/xesmf/smm.py:73: UserWarning: Input array is not C_CONTIGUOUS. Will affect performance.\n",
      "  warnings.warn(\"Input array is not C_CONTIGUOUS. \"\n"
     ]
    },
    {
     "name": "stdout",
     "output_type": "stream",
     "text": [
      "Remove file bilinear_200x360_20x210.nc\n",
      "IPSL-CM5A-LR\n",
      "Create weight file: bilinear_85x182_20x210.nc\n"
     ]
    },
    {
     "name": "stderr",
     "output_type": "stream",
     "text": [
      "/home/jbusecke/code/miniconda/envs/global_oxygen/lib/python3.6/site-packages/xesmf/smm.py:73: UserWarning: Input array is not C_CONTIGUOUS. Will affect performance.\n",
      "  warnings.warn(\"Input array is not C_CONTIGUOUS. \"\n"
     ]
    },
    {
     "name": "stdout",
     "output_type": "stream",
     "text": [
      "Remove file bilinear_85x182_20x210.nc\n",
      "GFDL-ESM2G\n",
      "Create weight file: bilinear_210x360_20x210.nc\n"
     ]
    },
    {
     "name": "stderr",
     "output_type": "stream",
     "text": [
      "/home/jbusecke/code/miniconda/envs/global_oxygen/lib/python3.6/site-packages/xesmf/smm.py:73: UserWarning: Input array is not C_CONTIGUOUS. Will affect performance.\n",
      "  warnings.warn(\"Input array is not C_CONTIGUOUS. \"\n"
     ]
    },
    {
     "name": "stdout",
     "output_type": "stream",
     "text": [
      "Remove file bilinear_210x360_20x210.nc\n"
     ]
    },
    {
     "name": "stderr",
     "output_type": "stream",
     "text": [
      "/home/jbusecke/code/miniconda/envs/global_oxygen/lib/python3.6/site-packages/numpy/core/numeric.py:501: SerializationWarning: Unable to decode time axis into full numpy.datetime64 objects, continuing using cftime.datetime objects instead, reason: dates out of range\n",
      "  return array(a, dtype, copy=False, order=order)\n"
     ]
    },
    {
     "name": "stdout",
     "output_type": "stream",
     "text": [
      "MPI-ESM-MR\n",
      "Create weight file: bilinear_404x802_20x210.nc\n"
     ]
    },
    {
     "name": "stderr",
     "output_type": "stream",
     "text": [
      "/home/jbusecke/code/miniconda/envs/global_oxygen/lib/python3.6/site-packages/xesmf/smm.py:73: UserWarning: Input array is not C_CONTIGUOUS. Will affect performance.\n",
      "  warnings.warn(\"Input array is not C_CONTIGUOUS. \"\n"
     ]
    },
    {
     "name": "stdout",
     "output_type": "stream",
     "text": [
      "Remove file bilinear_404x802_20x210.nc\n",
      "<xarray.Dataset>\n",
      "Dimensions:  (lat: 20, lev: 70, lon: 210, model: 7, time: 100)\n",
      "Coordinates:\n",
      "  * model    (model) <U12 'NorESM1-ME' 'CESM1-BGC' ... 'GFDL-ESM2G' 'MPI-ESM-MR'\n",
      "  * lon      (lon) int64 -270 -269 -268 -267 -266 -265 ... -65 -64 -63 -62 -61\n",
      "  * lat      (lat) float64 -5.0 -4.5 -4.0 -3.5 -3.0 -2.5 ... 2.5 3.0 3.5 4.0 4.5\n",
      "  * time     (time) object 2006-07-01 00:00:00 ... 2105-07-01 00:00:00\n",
      "  * lev      (lev) float64 0.0 5.0 10.0 15.0 ... 6e+03 6.25e+03 6.5e+03 6.75e+03\n",
      "Data variables:\n",
      "    o2       (model, time, lev, lat, lon) float64 0.2031 0.203 ... nan nan\n",
      "    uo       (model, time, lev, lat, lon) float64 0.1483 0.1436 ... nan nan\n",
      "SCENARIO:rcp85\n"
     ]
    },
    {
     "name": "stderr",
     "output_type": "stream",
     "text": [
      "/tiger/scratch/gpfs/jbusecke/projects/global_oxygen/src/xarray/xarray/coding/times.py:419: SerializationWarning: Unable to decode time axis into full numpy.datetime64 objects, continuing using cftime.datetime objects instead, reason: dates out of range\n",
      "  self.use_cftime)\n",
      "/tiger/scratch/gpfs/jbusecke/projects/global_oxygen/src/xarray/xarray/coding/times.py:419: SerializationWarning: Unable to decode time axis into full numpy.datetime64 objects, continuing using cftime.datetime objects instead, reason: dates out of range\n",
      "  self.use_cftime)\n",
      "/home/jbusecke/code/miniconda/envs/global_oxygen/lib/python3.6/site-packages/numpy/core/numeric.py:501: SerializationWarning: Unable to decode time axis into full numpy.datetime64 objects, continuing using cftime.datetime objects instead, reason: dates out of range\n",
      "  return array(a, dtype, copy=False, order=order)\n",
      "/tiger/scratch/gpfs/jbusecke/projects/global_oxygen/src/xarray/xarray/coding/times.py:419: SerializationWarning: Unable to decode time axis into full numpy.datetime64 objects, continuing using cftime.datetime objects instead, reason: dates out of range\n",
      "  self.use_cftime)\n",
      "/tiger/scratch/gpfs/jbusecke/projects/global_oxygen/src/xarray/xarray/coding/times.py:419: SerializationWarning: Unable to decode time axis into full numpy.datetime64 objects, continuing using cftime.datetime objects instead, reason: dates out of range\n",
      "  self.use_cftime)\n",
      "/home/jbusecke/code/miniconda/envs/global_oxygen/lib/python3.6/site-packages/numpy/core/numeric.py:501: SerializationWarning: Unable to decode time axis into full numpy.datetime64 objects, continuing using cftime.datetime objects instead, reason: dates out of range\n",
      "  return array(a, dtype, copy=False, order=order)\n"
     ]
    },
    {
     "name": "stdout",
     "output_type": "stream",
     "text": [
      "NorESM1-ME\n",
      "Create weight file: bilinear_384x320_20x210.nc\n"
     ]
    },
    {
     "name": "stderr",
     "output_type": "stream",
     "text": [
      "/home/jbusecke/code/miniconda/envs/global_oxygen/lib/python3.6/site-packages/xesmf/smm.py:73: UserWarning: Input array is not C_CONTIGUOUS. Will affect performance.\n",
      "  warnings.warn(\"Input array is not C_CONTIGUOUS. \"\n"
     ]
    },
    {
     "name": "stdout",
     "output_type": "stream",
     "text": [
      "Remove file bilinear_384x320_20x210.nc\n",
      "CESM1-BGC\n",
      "Create weight file: bilinear_384x320_20x210.nc\n"
     ]
    },
    {
     "name": "stderr",
     "output_type": "stream",
     "text": [
      "/home/jbusecke/code/miniconda/envs/global_oxygen/lib/python3.6/site-packages/xesmf/smm.py:73: UserWarning: Input array is not C_CONTIGUOUS. Will affect performance.\n",
      "  warnings.warn(\"Input array is not C_CONTIGUOUS. \"\n"
     ]
    },
    {
     "name": "stdout",
     "output_type": "stream",
     "text": [
      "Remove file bilinear_384x320_20x210.nc\n"
     ]
    },
    {
     "name": "stderr",
     "output_type": "stream",
     "text": [
      "/home/jbusecke/code/miniconda/envs/global_oxygen/lib/python3.6/site-packages/numpy/core/numeric.py:501: SerializationWarning: Unable to decode time axis into full numpy.datetime64 objects, continuing using cftime.datetime objects instead, reason: dates out of range\n",
      "  return array(a, dtype, copy=False, order=order)\n"
     ]
    },
    {
     "name": "stdout",
     "output_type": "stream",
     "text": [
      "MPI-ESM-LR\n",
      "Create weight file: bilinear_220x256_20x210.nc\n"
     ]
    },
    {
     "name": "stderr",
     "output_type": "stream",
     "text": [
      "/home/jbusecke/code/miniconda/envs/global_oxygen/lib/python3.6/site-packages/xesmf/smm.py:73: UserWarning: Input array is not C_CONTIGUOUS. Will affect performance.\n",
      "  warnings.warn(\"Input array is not C_CONTIGUOUS. \"\n"
     ]
    },
    {
     "name": "stdout",
     "output_type": "stream",
     "text": [
      "Remove file bilinear_220x256_20x210.nc\n",
      "GFDL-ESM2M\n",
      "Create weight file: bilinear_200x360_20x210.nc\n"
     ]
    },
    {
     "name": "stderr",
     "output_type": "stream",
     "text": [
      "/home/jbusecke/code/miniconda/envs/global_oxygen/lib/python3.6/site-packages/xesmf/smm.py:73: UserWarning: Input array is not C_CONTIGUOUS. Will affect performance.\n",
      "  warnings.warn(\"Input array is not C_CONTIGUOUS. \"\n"
     ]
    },
    {
     "name": "stdout",
     "output_type": "stream",
     "text": [
      "Remove file bilinear_200x360_20x210.nc\n",
      "MRI-ESM1\n",
      "Create weight file: bilinear_250x360_20x210.nc\n"
     ]
    },
    {
     "name": "stderr",
     "output_type": "stream",
     "text": [
      "/home/jbusecke/code/miniconda/envs/global_oxygen/lib/python3.6/site-packages/xesmf/smm.py:73: UserWarning: Input array is not C_CONTIGUOUS. Will affect performance.\n",
      "  warnings.warn(\"Input array is not C_CONTIGUOUS. \"\n"
     ]
    },
    {
     "name": "stdout",
     "output_type": "stream",
     "text": [
      "Remove file bilinear_250x360_20x210.nc\n",
      "IPSL-CM5A-LR\n",
      "Create weight file: bilinear_85x182_20x210.nc\n"
     ]
    },
    {
     "name": "stderr",
     "output_type": "stream",
     "text": [
      "/home/jbusecke/code/miniconda/envs/global_oxygen/lib/python3.6/site-packages/xesmf/smm.py:73: UserWarning: Input array is not C_CONTIGUOUS. Will affect performance.\n",
      "  warnings.warn(\"Input array is not C_CONTIGUOUS. \"\n"
     ]
    },
    {
     "name": "stdout",
     "output_type": "stream",
     "text": [
      "Remove file bilinear_85x182_20x210.nc\n",
      "GFDL-ESM2G\n",
      "Create weight file: bilinear_210x360_20x210.nc\n"
     ]
    },
    {
     "name": "stderr",
     "output_type": "stream",
     "text": [
      "/home/jbusecke/code/miniconda/envs/global_oxygen/lib/python3.6/site-packages/xesmf/smm.py:73: UserWarning: Input array is not C_CONTIGUOUS. Will affect performance.\n",
      "  warnings.warn(\"Input array is not C_CONTIGUOUS. \"\n"
     ]
    },
    {
     "name": "stdout",
     "output_type": "stream",
     "text": [
      "Remove file bilinear_210x360_20x210.nc\n",
      "MPI-ESM-MR\n",
      "Create weight file: bilinear_404x802_20x210.nc\n"
     ]
    },
    {
     "name": "stderr",
     "output_type": "stream",
     "text": [
      "/home/jbusecke/code/miniconda/envs/global_oxygen/lib/python3.6/site-packages/xesmf/smm.py:73: UserWarning: Input array is not C_CONTIGUOUS. Will affect performance.\n",
      "  warnings.warn(\"Input array is not C_CONTIGUOUS. \"\n"
     ]
    },
    {
     "name": "stdout",
     "output_type": "stream",
     "text": [
      "Remove file bilinear_404x802_20x210.nc\n",
      "NorESM1-ME\n",
      "Create weight file: bilinear_384x320_20x210.nc\n"
     ]
    },
    {
     "name": "stderr",
     "output_type": "stream",
     "text": [
      "/home/jbusecke/code/miniconda/envs/global_oxygen/lib/python3.6/site-packages/xesmf/smm.py:73: UserWarning: Input array is not C_CONTIGUOUS. Will affect performance.\n",
      "  warnings.warn(\"Input array is not C_CONTIGUOUS. \"\n"
     ]
    },
    {
     "name": "stdout",
     "output_type": "stream",
     "text": [
      "Remove file bilinear_384x320_20x210.nc\n",
      "CESM1-BGC\n",
      "Create weight file: bilinear_384x320_20x210.nc\n"
     ]
    },
    {
     "name": "stderr",
     "output_type": "stream",
     "text": [
      "/home/jbusecke/code/miniconda/envs/global_oxygen/lib/python3.6/site-packages/xesmf/smm.py:73: UserWarning: Input array is not C_CONTIGUOUS. Will affect performance.\n",
      "  warnings.warn(\"Input array is not C_CONTIGUOUS. \"\n"
     ]
    },
    {
     "name": "stdout",
     "output_type": "stream",
     "text": [
      "Remove file bilinear_384x320_20x210.nc\n"
     ]
    },
    {
     "name": "stderr",
     "output_type": "stream",
     "text": [
      "/home/jbusecke/code/miniconda/envs/global_oxygen/lib/python3.6/site-packages/numpy/core/numeric.py:501: SerializationWarning: Unable to decode time axis into full numpy.datetime64 objects, continuing using cftime.datetime objects instead, reason: dates out of range\n",
      "  return array(a, dtype, copy=False, order=order)\n"
     ]
    },
    {
     "name": "stdout",
     "output_type": "stream",
     "text": [
      "MPI-ESM-LR\n",
      "Create weight file: bilinear_220x256_20x210.nc\n"
     ]
    },
    {
     "name": "stderr",
     "output_type": "stream",
     "text": [
      "/home/jbusecke/code/miniconda/envs/global_oxygen/lib/python3.6/site-packages/xesmf/smm.py:73: UserWarning: Input array is not C_CONTIGUOUS. Will affect performance.\n",
      "  warnings.warn(\"Input array is not C_CONTIGUOUS. \"\n"
     ]
    },
    {
     "name": "stdout",
     "output_type": "stream",
     "text": [
      "Remove file bilinear_220x256_20x210.nc\n",
      "GFDL-ESM2M\n",
      "Create weight file: bilinear_200x360_20x210.nc\n"
     ]
    },
    {
     "name": "stderr",
     "output_type": "stream",
     "text": [
      "/home/jbusecke/code/miniconda/envs/global_oxygen/lib/python3.6/site-packages/xesmf/smm.py:73: UserWarning: Input array is not C_CONTIGUOUS. Will affect performance.\n",
      "  warnings.warn(\"Input array is not C_CONTIGUOUS. \"\n"
     ]
    },
    {
     "name": "stdout",
     "output_type": "stream",
     "text": [
      "Remove file bilinear_200x360_20x210.nc\n",
      "MRI-ESM1\n",
      "Create weight file: bilinear_250x360_20x210.nc\n"
     ]
    },
    {
     "name": "stderr",
     "output_type": "stream",
     "text": [
      "/home/jbusecke/code/miniconda/envs/global_oxygen/lib/python3.6/site-packages/xesmf/smm.py:73: UserWarning: Input array is not C_CONTIGUOUS. Will affect performance.\n",
      "  warnings.warn(\"Input array is not C_CONTIGUOUS. \"\n"
     ]
    },
    {
     "name": "stdout",
     "output_type": "stream",
     "text": [
      "Remove file bilinear_250x360_20x210.nc\n",
      "IPSL-CM5A-LR\n",
      "Create weight file: bilinear_85x182_20x210.nc\n"
     ]
    },
    {
     "name": "stderr",
     "output_type": "stream",
     "text": [
      "/home/jbusecke/code/miniconda/envs/global_oxygen/lib/python3.6/site-packages/xesmf/smm.py:73: UserWarning: Input array is not C_CONTIGUOUS. Will affect performance.\n",
      "  warnings.warn(\"Input array is not C_CONTIGUOUS. \"\n"
     ]
    },
    {
     "name": "stdout",
     "output_type": "stream",
     "text": [
      "Remove file bilinear_85x182_20x210.nc\n",
      "GFDL-ESM2G\n",
      "Create weight file: bilinear_210x360_20x210.nc\n"
     ]
    },
    {
     "name": "stderr",
     "output_type": "stream",
     "text": [
      "/home/jbusecke/code/miniconda/envs/global_oxygen/lib/python3.6/site-packages/xesmf/smm.py:73: UserWarning: Input array is not C_CONTIGUOUS. Will affect performance.\n",
      "  warnings.warn(\"Input array is not C_CONTIGUOUS. \"\n"
     ]
    },
    {
     "name": "stdout",
     "output_type": "stream",
     "text": [
      "Remove file bilinear_210x360_20x210.nc\n",
      "MPI-ESM-MR\n",
      "Create weight file: bilinear_404x802_20x210.nc\n"
     ]
    },
    {
     "name": "stderr",
     "output_type": "stream",
     "text": [
      "/home/jbusecke/code/miniconda/envs/global_oxygen/lib/python3.6/site-packages/xesmf/smm.py:73: UserWarning: Input array is not C_CONTIGUOUS. Will affect performance.\n",
      "  warnings.warn(\"Input array is not C_CONTIGUOUS. \"\n"
     ]
    },
    {
     "name": "stdout",
     "output_type": "stream",
     "text": [
      "Remove file bilinear_404x802_20x210.nc\n",
      "<xarray.Dataset>\n",
      "Dimensions:  (lat: 20, lev: 70, lon: 210, model: 8, time: 295)\n",
      "Coordinates:\n",
      "  * model    (model) <U12 'NorESM1-ME' 'CESM1-BGC' ... 'GFDL-ESM2G' 'MPI-ESM-MR'\n",
      "  * time     (time) object 2006-07-01 00:00:00 ... 2300-07-01 00:00:00\n",
      "  * lon      (lon) int64 -270 -269 -268 -267 -266 -265 ... -65 -64 -63 -62 -61\n",
      "  * lat      (lat) float64 -5.0 -4.5 -4.0 -3.5 -3.0 -2.5 ... 2.5 3.0 3.5 4.0 4.5\n",
      "  * lev      (lev) float64 0.0 5.0 10.0 15.0 ... 6e+03 6.25e+03 6.5e+03 6.75e+03\n",
      "Data variables:\n",
      "    o2       (model, time, lev, lat, lon) float64 0.1995 0.1998 ... nan nan\n",
      "    uo       (model, time, lev, lat, lon) float64 0.2497 0.2446 ... nan nan\n"
     ]
    },
    {
     "data": {
      "image/png": "[encoded data removed]",
      "text/plain": [
       "<Figure size 936x432 with 9 Axes>"
      ]
     },
     "metadata": {
      "needs_background": "light"
     },
     "output_type": "display_data"
    },
    {
     "data": {
      "image/png": "[encoded data removed]",
      "text/plain": [
       "<Figure size 936x432 with 9 Axes>"
      ]
     },
     "metadata": {
      "needs_background": "light"
     },
     "output_type": "display_data"
    }
   ],
   "source": [
    "path = '/tigress/laurer/CMIP5'\n",
    "\n",
    "for scenario in ['piControl', 'rcp85', ]:\n",
    "    print('SCENARIO:%s' %scenario)\n",
    "    opath = '../data/processed/CMIP5_tropical_combined_%s.nc' %scenario\n",
    "    filelist = glob(path+'/cmip*')\n",
    "    models = list(set([a.replace(path,'').split('.')[3] for a in filelist]))\n",
    "    \n",
    "    # there is no piControl fir MRI\n",
    "    if scenario == 'piControl':\n",
    "        models = [m for m in models if not 'MRI' in m]\n",
    "\n",
    "    # for now I am missing the HadGEM and Miroc\n",
    "    models = [m for m in models if ('HadGEM' not in m) and ('MIROC' not in m)]\n",
    "\n",
    "    uo_files = [filecheck('%s/cmip5.merge.*.%s.%s.yr.*uo*nc' %(path, m, scenario)) for m in models]\n",
    "    o2_files = [filecheck('%s/cmip5.merge.*.%s.%s.yr.*o2*nc' %(path, m, scenario)) for m in models]\n",
    "\n",
    "    raw_uo_datasets = [xr.open_mfdataset(path) for path in uo_files]\n",
    "    raw_o2_datasets = [xr.open_mfdataset(path) for path in o2_files]\n",
    "\n",
    "    ############ interpolate all datasets onto reference model (take one 300 yr one)\n",
    "    # time_ref = uo_datasets['IPSL-CM5A-LR'].time\n",
    "    # Ok this is HELL! I will replace all calendars assuming they start in 2006 and represent yearly averages\n",
    "    # I CANNOT SAVE THIS AAAEEERRRHGGGHFGHGHGHFGHGHGHGHG so i will restrict it to a valid \n",
    "    time_ref = xr.cftime_range(start='2006', end='2301', freq='AS-JUL', calendar='standard')#.to_datetimeindex()\n",
    "\n",
    "    # parse to dict\n",
    "    uo_datasets = {k:v for k,v in zip(models, raw_uo_datasets)}\n",
    "    o2_datasets = {k:v for k,v in zip(models, raw_o2_datasets)}\n",
    "\n",
    "    # precut the weird french model grid\n",
    "    if 'IPSL-CM5A-LR' in o2_datasets.keys():\n",
    "        o2_datasets['IPSL-CM5A-LR'] = o2_datasets['IPSL-CM5A-LR'].sel(y=slice(0,85))\n",
    "        uo_datasets['IPSL-CM5A-LR'] = uo_datasets['IPSL-CM5A-LR'].sel(y=slice(0,85))\n",
    "\n",
    "    if 'MRI-ESM1' in o2_datasets.keys():\n",
    "        o2_datasets['MRI-ESM1'] = o2_datasets['MRI-ESM1'].sel(y=slice(0,250))\n",
    "        uo_datasets['MRI-ESM1'] = uo_datasets['MRI-ESM1'].sel(y=slice(0,250))\n",
    "\n",
    "    ############# interpolate everything on a common vertical grid\n",
    "    ref_lev = o2_datasets['NorESM1-ME'].lev\n",
    "\n",
    "    o2_datasets = {k:replace_time(v.interp(lev=ref_lev),\n",
    "                                           time_ref) for k,v in o2_datasets.items()}\n",
    "    uo_datasets = {k:replace_time(v.interp(lev=ref_lev),\n",
    "                                           time_ref) for k,v in uo_datasets.items()}\n",
    "\n",
    "    # Process the datasets:\n",
    "    uo_datasets_processed = {kk:fetch_equator_full(dd.load(), field='uo') for kk, dd in uo_datasets.items()}\n",
    "    o2_datasets_processed = {kk:fetch_equator_full(dd.load(), field='o2') for kk, dd in o2_datasets.items()}\n",
    "\n",
    "\n",
    "    datasets_combined = {k:xr.Dataset({'o2':o2_datasets_processed[k].copy().interp(lev=ref_lev),\n",
    "                                       'uo':uo_datasets_processed[k].copy().interp(lev=ref_lev)}) for k in o2_datasets_processed.keys()}\n",
    "\n",
    "    mod_names = list(datasets_combined.keys())\n",
    "    mod_ds = [datasets_combined[k] for k in mod_names]\n",
    "    ds = xr.concat(mod_ds, concat_dim_da(mod_names, 'model'))\n",
    "    print(ds)\n",
    "    ds.attrs['scenario'] = scenario\n",
    "\n",
    "    ds.o2.isel(time=10, lev=12).plot(col='model', col_wrap=4)\n",
    "    ds.to_netcdf(opath)"
   ]
  }
 ],
 "metadata": {
  "kernelspec": {
   "display_name": "Python 3",
   "language": "python",
   "name": "python3"
  },
  "language_info": {
   "codemirror_mode": {
    "name": "ipython",
    "version": 3
   },
   "file_extension": ".py",
   "mimetype": "text/x-python",
   "name": "python",
   "nbconvert_exporter": "python",
   "pygments_lexer": "ipython3",
   "version": "3.6.7"
  }
 },
 "nbformat": 4,
 "nbformat_minor": 2
}
